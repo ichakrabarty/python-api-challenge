{
 "cells": [
  {
   "cell_type": "markdown",
   "metadata": {},
   "source": [
    "# WeatherPy\n",
    "----\n",
    "\n",
    "#### Note\n",
    "* Instructions have been included for each segment. You do not have to follow them exactly, but they are included to help you think through the steps."
   ]
  },
  {
   "cell_type": "code",
   "execution_count": 43,
   "metadata": {
    "scrolled": true
   },
   "outputs": [],
   "source": [
    "import requests \n",
    "import json\n",
    "import random\n",
    "from citipy import citipy\n",
    "from pprint import pprint\n",
    "import pandas as pd\n",
    "import matplotlib.pyplot as plt\n",
    "import numpy as np\n",
    "import scipy.stats as sts"
   ]
  },
  {
   "cell_type": "markdown",
   "metadata": {},
   "source": [
    "## Generate Cities List"
   ]
  },
  {
   "cell_type": "code",
   "execution_count": 13,
   "metadata": {},
   "outputs": [
    {
     "data": {
      "text/plain": [
       "613"
      ]
     },
     "execution_count": 13,
     "metadata": {},
     "output_type": "execute_result"
    }
   ],
   "source": [
    "lat = []\n",
    "lng = []\n",
    "cities = []\n",
    "\n",
    "i = 0 #lat index\n",
    "j = 0 #lng index\n",
    "\n",
    "for x in range(1500):\n",
    "    r_lat = random.uniform(-90, 90)\n",
    "    lat.append(r_lat)\n",
    "    r_lng = random.uniform(-180, 180)\n",
    "    lng.append(r_lng)\n",
    "    \n",
    "    city = citipy.nearest_city(lat[i],lng[j])\n",
    "    name_city = city.city_name\n",
    "    if name_city not in cities:\n",
    "        cities.append(name_city)\n",
    "    i=i+1\n",
    "    j=j+1\n",
    "\n",
    "len(cities)      "
   ]
  },
  {
   "cell_type": "markdown",
   "metadata": {},
   "source": [
    "### Perform API Calls\n",
    "* Perform a weather check on each city using a series of successive API calls.\n",
    "* Include a print log of each city as it'sbeing processed (with the city number and city name).\n"
   ]
  },
  {
   "cell_type": "code",
   "execution_count": 52,
   "metadata": {
    "scrolled": true
   },
   "outputs": [
    {
     "name": "stdout",
     "output_type": "stream",
     "text": [
      "City number 1: Puerto Ayora\n",
      "City number 2: Mogadishu\n",
      "City number 3: Asău\n",
      "City number 4: Busselton\n",
      "City number 5: Rojhan\n",
      "City number 6: Dingle\n",
      "City number 7: Lüderitz\n",
      "City number 8: Bismarck\n",
      "City not found. Skipping...\n",
      "City number 9: Jamestown\n",
      "City number 10: Rikitea\n",
      "City number 11: Ankara\n",
      "City number 12: Adrar\n",
      "City number 13: Mataura\n",
      "City number 14: Ushuaia\n",
      "City number 15: Kapaa\n",
      "City number 16: Tianpeng\n",
      "City number 17: Bethel\n",
      "City number 18: Bolitoc\n",
      "City number 19: Miraflores\n",
      "City not found. Skipping...\n",
      "City number 20: Harper\n",
      "City number 21: Albany\n",
      "City not found. Skipping...\n",
      "City number 22: Murray Bridge\n",
      "City number 23: Hobart\n",
      "City number 24: Lima\n",
      "City number 25: São Miguel do Araguaia\n",
      "City not found. Skipping...\n",
      "City not found. Skipping...\n",
      "City number 26: Cape Town\n",
      "City number 27: Santa Cruz de la Sierra\n",
      "City number 28: Hilo\n",
      "City number 29: Bluff\n",
      "City number 30: Kendal\n",
      "City number 31: Airai\n",
      "City number 32: Vila\n",
      "City number 33: Lavrentiya\n",
      "City number 34: Tuatapere\n",
      "City number 35: Talara\n",
      "City number 36: Basco\n",
      "City number 37: Ascension\n",
      "City number 38: Zhangye\n",
      "City number 39: Priiskovyy\n",
      "City number 40: Guerrero Negro\n",
      "City number 41: Río Gallegos\n",
      "City number 42: East London\n",
      "City number 43: Arraial do Cabo\n",
      "City number 44: Mombetsu\n",
      "City number 45: Goderich\n",
      "City number 46: Vaini\n",
      "City number 47: Padang\n",
      "City number 48: Vostok\n",
      "City number 49: Muisne\n",
      "City number 50: Tuktoyaktuk\n",
      "City number 51: Qaanaaq\n",
      "City number 52: Olafsvik\n",
      "City number 53: Port Alfred\n",
      "City number 54: Piaçabuçu\n",
      "City number 55: Grindavik\n",
      "City number 56: Beeville\n",
      "City number 57: Klaksvík\n",
      "City number 58: Ayorou\n",
      "City number 59: San Cristobal\n",
      "City number 60: Havelock\n",
      "City number 61: Half Moon Bay\n",
      "City number 62: Grenå\n",
      "City number 63: Chokwé\n",
      "City number 64: Bredasdorp\n",
      "City number 65: Wattegama\n",
      "City number 66: San Miguel de Tucumán\n",
      "City number 67: Barrow\n",
      "City number 68: Sept-Îles\n",
      "City number 69: Phalaborwa\n",
      "City number 70: Takoradze\n",
      "City number 71: Tiksi\n",
      "City number 72: Yatou\n",
      "City number 73: Necochea\n",
      "City not found. Skipping...\n",
      "City number 74: Vysokovsk\n",
      "City number 75: Lakes Entrance\n",
      "City number 76: Caravelas\n",
      "City number 77: Ponta do Sol\n",
      "City number 78: Narsaq\n",
      "City number 79: Codrington\n",
      "City number 80: Hualmay\n",
      "City number 81: Kysyl-Syr\n",
      "City not found. Skipping...\n",
      "City number 82: Saint-Philippe\n",
      "City number 83: Naze\n",
      "City number 84: Maniitsoq\n",
      "City number 85: Bengkulu\n",
      "City number 86: Dikson\n",
      "City not found. Skipping...\n",
      "City number 87: Camaná\n",
      "City number 88: Yumen\n",
      "City number 89: Punta Arenas\n",
      "City number 90: Comodoro Rivadavia\n",
      "City not found. Skipping...\n",
      "City number 91: Kavaratti\n",
      "City number 92: Severo-Kuril'sk\n",
      "City number 93: Mwinilunga\n",
      "City number 94: Upernavik\n",
      "City number 95: Sioux Lookout\n",
      "City number 96: Ponta Delgada\n",
      "City number 97: New Norfolk\n",
      "City number 98: Malatya Province\n",
      "City number 99: Vanderhoof\n",
      "City number 100: Bonthe\n",
      "City number 101: Thompson\n",
      "City number 102: Theog\n",
      "City number 103: Taoudenni\n",
      "City not found. Skipping...\n",
      "City number 104: Gaza\n",
      "City number 105: Tasiilaq\n",
      "City number 106: Nikolskoye\n",
      "City number 107: Krasnosel'kup\n",
      "City number 108: Puerto Carreño\n",
      "City number 109: Kostanay\n",
      "City number 110: Grandview\n",
      "City number 111: Mengcheng\n",
      "City number 112: Shitkino\n",
      "City number 113: Tezu\n",
      "City number 114: Hermanus\n",
      "City number 115: Port Elizabeth\n",
      "City number 116: Vardø\n",
      "City number 117: Carnarvon\n",
      "City not found. Skipping...\n",
      "City number 118: George Town\n",
      "City number 119: Gornopravdinsk\n",
      "City number 120: Suamico\n",
      "City number 121: Pacific Grove\n",
      "City number 122: Cayenne\n",
      "City not found. Skipping...\n",
      "City number 123: Turinsk\n",
      "City number 124: Yellowknife\n",
      "City number 125: Paiçandu\n",
      "City number 126: Atuona\n",
      "City not found. Skipping...\n",
      "City number 127: Umluj\n",
      "City number 128: Hithadhoo\n",
      "City number 129: Cidreira\n",
      "City number 130: Palu\n",
      "City number 131: Monrovia\n",
      "City number 132: Presidencia Roque Sáenz Peña\n",
      "City number 133: Kamenka\n",
      "City number 134: Eilat\n",
      "City number 135: Kilcullen\n",
      "City number 136: Yulara\n",
      "City number 137: Fukuechō\n",
      "City not found. Skipping...\n",
      "City number 138: Mahon\n",
      "City number 139: Chul'man\n",
      "City number 140: Vilyuysk\n",
      "City number 141: Bereda\n",
      "City number 142: São Filipe\n",
      "City number 143: Taldan\n",
      "City number 144: Provideniya\n",
      "City number 145: Kruisfontein\n",
      "City number 146: Hong Kong\n",
      "City number 147: Kuching\n",
      "City number 148: Homa Bay\n",
      "City number 149: Katsuura\n",
      "City number 150: Masaka\n",
      "City number 151: Tarko-Sale\n",
      "City number 152: Chumikan\n",
      "City number 153: La Paz\n",
      "City number 154: Saldanha\n",
      "City number 155: Aklavik\n",
      "City number 156: Preston\n",
      "City not found. Skipping...\n",
      "City number 157: Inta\n",
      "City number 158: Lethem\n",
      "City number 159: Burkburnett\n",
      "City number 160: Castro\n",
      "City number 161: Saint Paul Harbor\n",
      "City number 162: Esperance\n",
      "City not found. Skipping...\n",
      "City number 163: Hamilton\n",
      "City number 164: Labuhan\n",
      "City not found. Skipping...\n",
      "City number 165: Cabo San Lucas\n",
      "City number 166: Tacna\n",
      "City number 167: Kavieng\n",
      "City number 168: Akureyri\n",
      "City number 169: Farīdpur\n",
      "City not found. Skipping...\n",
      "City number 170: Heihe\n",
      "City number 171: Pevek\n",
      "City number 172: Nantucket\n",
      "City number 173: Departamento de Maldonado\n",
      "City number 174: Kendari\n",
      "City number 175: Butaritari\n",
      "City number 176: Saint-François\n",
      "City number 177: Anadyr\n",
      "City number 178: Kudahuvadhoo\n",
      "City number 179: Bambous Virieux\n",
      "City not found. Skipping...\n",
      "City number 180: Bam\n",
      "City number 181: Ţaga\n",
      "City number 182: Yerbogachën\n",
      "City number 183: Lafia\n",
      "City not found. Skipping...\n",
      "City number 184: Vila Franca do Campo\n",
      "City number 185: San Patricio\n",
      "City number 186: Ambovombe\n",
      "City number 187: Kumul\n",
      "City number 188: Neepawa\n",
      "City not found. Skipping...\n",
      "City number 189: Ostrovnoy\n",
      "City number 190: Bāglung\n",
      "City number 191: Sabang\n",
      "City number 192: Årdalstangen\n",
      "City not found. Skipping...\n",
      "City number 193: Avarua\n",
      "City number 194: Snezhnogorsk\n",
      "City number 195: Bandarbeyla\n",
      "City number 196: Ambulu\n",
      "City number 197: Khatanga\n",
      "City number 198: Dom Pedrito\n",
      "City number 199: Darhan\n",
      "City number 200: Ust-Kuyga\n",
      "City number 201: Biak\n",
      "City number 202: Lebu\n",
      "City number 203: Port Hedland\n",
      "City number 204: Chokurdakh\n",
      "City number 205: Redcar\n",
      "City not found. Skipping...\n",
      "City number 206: Pouébo\n",
      "City number 207: Dubbo\n",
      "City number 208: Allāpalli\n",
      "City number 209: Velika Kladuša\n",
      "City number 210: Tual\n",
      "City number 211: Boyolangu\n",
      "City number 212: Nanortalik\n",
      "City not found. Skipping...\n",
      "City number 213: Beringovskiy\n",
      "City number 214: Alice Springs\n",
      "City number 215: Dali\n",
      "City number 216: Baruun-Urt\n",
      "City number 217: Kharagpur\n",
      "City number 218: Resistencia\n",
      "City number 219: Craigieburn\n",
      "City number 220: Marystown\n",
      "City number 221: Mahébourg\n",
      "City number 222: Kaitangata\n",
      "City number 223: Mahanoro\n",
      "City number 224: Alyangula\n",
      "City number 225: La Tuque\n",
      "City number 226: Sarkand\n",
      "City number 227: Vestmannaeyjar\n",
      "City number 228: High Level\n",
      "City number 229: Pangnirtung\n",
      "City number 230: Craig\n",
      "City number 231: Lorengau\n",
      "City number 232: Aleksandro-Nevskiy\n",
      "City number 233: Manzhouli\n",
      "City number 234: Qandala\n",
      "City number 235: Karaton\n",
      "City number 236: Forsytheganj\n",
      "City number 237: Hambantota\n",
      "City number 238: Shakawe\n",
      "City number 239: Kahului\n",
      "City number 240: Bārmer\n",
      "City number 241: Requena\n",
      "City number 242: Ust-Tsilma\n",
      "City number 243: Radcliff\n",
      "City not found. Skipping...\n",
      "City number 244: Gomel\n",
      "City number 245: Dalbandin\n",
      "City number 246: Juneau\n",
      "City number 247: Clyde River\n",
      "City number 248: Tessalit\n",
      "City number 249: Pisco\n",
      "City number 250: Magadan\n",
      "City number 251: Balaipungut\n",
      "City number 252: Sitka\n",
      "City number 253: Kutum\n",
      "City number 254: Jumla\n",
      "City number 255: Weligama\n",
      "City not found. Skipping...\n",
      "City number 256: Evensk\n",
      "City not found. Skipping...\n",
      "City number 257: Waipawa\n",
      "City number 258: Batagay-Alyta\n",
      "City number 259: Alofi\n",
      "City number 260: Kewanee\n",
      "City number 261: La Ligua\n",
      "City number 262: Bilma\n",
      "City number 263: Kichera\n",
      "City number 264: Innisfail\n",
      "City number 265: Cabedelo\n",
      "City number 266: Chapais\n",
      "City number 267: Saint George\n",
      "City number 268: Tomatlán\n",
      "City number 269: Adré\n",
      "City number 270: Tateyama\n",
      "City number 271: Petropavlovsk-Kamchatskiy\n",
      "City number 272: Benin\n",
      "City not found. Skipping...\n",
      "City number 273: Iwaki\n",
      "City number 274: Port-Gentil\n",
      "City not found. Skipping...\n",
      "City not found. Skipping...\n",
      "City number 275: La Ronge\n",
      "City number 276: Ulladulla\n",
      "City number 277: Gumdag\n",
      "City number 278: Mount Gambier\n",
      "City number 279: Celestún\n",
      "City number 280: Geraldton\n"
     ]
    },
    {
     "name": "stdout",
     "output_type": "stream",
     "text": [
      "City not found. Skipping...\n",
      "City number 281: Oshikango\n",
      "City number 282: Murdochville\n",
      "City number 283: Banff\n",
      "City number 284: Durango\n",
      "City number 285: Singkang\n",
      "City number 286: Touros\n",
      "City number 287: Ilulissat\n",
      "City number 288: Fortuna\n",
      "City number 289: Adana Province\n",
      "City number 290: Tautira\n",
      "City number 291: Okhotsk\n",
      "City number 292: Senador José Porfírio\n",
      "City number 293: Nishihara\n",
      "City number 294: Krasnoshchekovo\n",
      "City number 295: Maniwaki\n",
      "City number 296: Berlevåg\n",
      "City number 297: Dwārka\n",
      "City number 298: Kamaishi\n",
      "City number 299: Imbituba\n",
      "City number 300: Solnechnyy\n",
      "City number 301: Ocós\n",
      "City number 302: Mar del Plata\n",
      "City number 303: Marzuq\n",
      "City number 304: Santiago del Estero\n",
      "City number 305: Rawson\n",
      "City number 306: Merauke\n",
      "City number 307: Sørland\n",
      "City number 308: Makat\n",
      "City number 309: Katangli\n",
      "City number 310: Cherskiy\n",
      "City number 311: Longyearbyen\n",
      "City not found. Skipping...\n",
      "City number 312: Faanui\n",
      "City number 313: Luau\n",
      "City number 314: Ivanteyevka\n",
      "City number 315: Tupik\n",
      "City number 316: Vinkovci\n",
      "City number 317: Mount Isa\n",
      "City number 318: Ihlow\n",
      "City number 319: Fairbanks\n",
      "City number 320: Sheregesh\n",
      "City number 321: Saskylakh\n",
      "City number 322: Safi\n",
      "City number 323: Paamiut\n",
      "City number 324: Byron Bay\n",
      "City number 325: Częstochowa\n",
      "City number 326: Laas\n",
      "City number 327: Norman Wells\n",
      "City number 328: Oistins\n",
      "City number 329: Dzaoudzi\n",
      "City number 330: Sangar\n",
      "City number 331: Kiama\n",
      "City number 332: Rocha\n",
      "City number 333: Amga\n",
      "City number 334: Ati\n",
      "City number 335: Republic\n",
      "City number 336: Hanzhong\n",
      "City number 337: Wenzhou\n",
      "City number 338: Sarany\n",
      "City number 339: Ahipara\n",
      "City number 340: Cheyenne\n",
      "City number 341: Naliya\n",
      "City number 342: Laguna\n",
      "City number 343: Aguadilla\n",
      "City number 344: Assiut\n",
      "City number 345: Chui\n",
      "City number 346: Yershov\n",
      "City number 347: Lake Havasu City\n",
      "City number 348: Atar\n",
      "City number 349: Lagos\n",
      "City number 350: Chicama\n",
      "City number 351: Sompeta\n",
      "City number 352: Irará\n",
      "City number 353: Le Mars\n",
      "City number 354: Kaihua\n",
      "City number 355: Brigantine\n",
      "City number 356: Eureka\n",
      "City number 357: Langham\n",
      "City number 358: Prado\n",
      "City number 359: Inverell\n",
      "City number 360: Gorlice\n",
      "City not found. Skipping...\n",
      "City number 361: Sistranda\n",
      "City number 362: Coronel\n",
      "City number 363: Brezno\n",
      "City number 364: Ribeira Grande\n",
      "City number 365: Port Macquarie\n",
      "City number 366: Iquique\n",
      "City number 367: Yar-Sale\n",
      "City number 368: Olavarría\n",
      "City number 369: Champerico\n",
      "City number 370: Mokhsogollokh\n",
      "City number 371: Atambua\n",
      "City number 372: Río Cuarto\n",
      "City number 373: San Rafael del Sur\n",
      "City number 374: Kalmunai\n",
      "City number 375: Iqaluit\n",
      "City number 376: Shirokiy\n",
      "City number 377: Morant Bay\n",
      "City not found. Skipping...\n",
      "City number 378: La Rioja\n",
      "City number 379: Honiara\n",
      "City number 380: Makkah al Mukarramah\n",
      "City number 381: Dargaville\n",
      "City not found. Skipping...\n",
      "City number 382: Pampierstad\n",
      "City number 383: Yangi Marg`ilon\n",
      "City number 384: Westport\n",
      "City number 385: Athabasca\n",
      "City number 386: Bilibino\n",
      "City number 387: Ancud\n",
      "City number 388: Jaisalmer\n",
      "City not found. Skipping...\n",
      "City number 389: Tiznit Province\n",
      "City number 390: Aykhal\n",
      "City number 391: Iracoubo\n",
      "City number 392: Taksimo\n",
      "City number 393: Salinas\n",
      "City number 394: Mackay\n",
      "City number 395: Campbell River\n",
      "City number 396: Lālmohan\n",
      "City number 397: Manicoré\n",
      "City number 398: Hofn\n",
      "City number 399: Ormara\n",
      "City number 400: Lālsot\n",
      "City number 401: Isangel\n",
      "City number 402: Sampit\n",
      "City number 403: Puerto Escondido\n",
      "City number 404: Xichang\n",
      "City number 405: Medina Estates\n",
      "City number 406: Nabire\n",
      "City number 407: Gatesville\n",
      "City number 408: Kailua\n",
      "City number 409: Biltine\n",
      "City number 410: Viramgam\n",
      "City number 411: Cascais\n",
      "City number 412: Maningrida\n",
      "City number 413: Korla\n",
      "City number 414: Dhidhdhoo\n",
      "City number 415: Souillac\n",
      "City number 416: Kibara\n",
      "City number 417: Kokopo\n",
      "City not found. Skipping...\n",
      "City number 418: Ban Phai\n",
      "City number 419: Callaway\n",
      "City number 420: Bathsheba\n",
      "City number 421: Huarmey\n",
      "City number 422: Miracema do Tocantins\n",
      "City number 423: Korsakov\n",
      "City number 424: Mehamn\n",
      "City number 425: Paphos\n",
      "City number 426: Moussoro\n",
      "City number 427: La Libertad\n",
      "City number 428: Verkhotur'ye\n",
      "City number 429: Bima\n",
      "City number 430: Coyhaique\n",
      "City number 431: Luleå\n",
      "City number 432: Drinovci\n",
      "City number 433: Dzhebariki-Khaya\n",
      "City number 434: Turka\n",
      "City number 435: Zhangaözen\n",
      "City number 436: Coquimbo\n",
      "City number 437: Talnakh\n",
      "City number 438: Mirwah\n",
      "City number 439: Gravdal\n",
      "City number 440: Arona\n",
      "City number 441: Iwanai\n",
      "City number 442: Vao\n",
      "City number 443: Hasaki\n",
      "City number 444: Port Lincoln\n",
      "City number 445: Unaí\n",
      "City number 446: Torbay\n",
      "City not found. Skipping...\n",
      "City not found. Skipping...\n",
      "City number 447: Lahat\n",
      "City not found. Skipping...\n",
      "City number 448: Borogontsy\n",
      "City number 449: Gumlā\n",
      "City number 450: Nuristan\n",
      "City number 451: Cam Ranh\n",
      "City number 452: Thinadhoo\n",
      "City number 453: Mandalgovi\n",
      "City number 454: George Town\n",
      "City number 455: Ibicuí\n",
      "City number 456: Aberdeen\n",
      "City number 457: El Cobre\n",
      "City not found. Skipping...\n",
      "City number 458: Sharjah city\n",
      "City number 459: Svay Rieng\n",
      "City number 460: Vredendal\n",
      "City number 461: Payo\n",
      "City number 462: Weirton\n",
      "City number 463: Beloha\n",
      "City number 464: Taicheng\n",
      "City number 465: St. George's\n",
      "City number 466: Kuril'sk\n",
      "City number 467: Los Llanos de Aridane\n",
      "City number 468: Leshukonskoye\n",
      "City number 469: Lagoa\n",
      "City number 470: Paka\n",
      "City number 471: Rafsanjān\n",
      "City number 472: Black Diamond\n",
      "City number 473: Miyako\n",
      "City number 474: Unecha\n",
      "City not found. Skipping...\n",
      "City number 475: Kloulklubed\n",
      "City number 476: Kribi\n",
      "City number 477: Gilgit\n",
      "City number 478: Noumea\n",
      "City number 479: Okhtyrka\n",
      "City number 480: Farmington\n",
      "City number 481: Kovdor\n",
      "City number 482: Kaeo\n",
      "City number 483: Nhulunbuy\n",
      "City number 484: Purranque\n",
      "City number 485: Merke\n",
      "City number 486: Nioro\n",
      "City number 487: Reinosa\n",
      "City number 488: Panzhihua\n",
      "City number 489: Morro Bay\n",
      "City not found. Skipping...\n",
      "City number 490: Kamakura\n",
      "City number 491: Ukmerge\n",
      "City number 492: Kaka\n",
      "City number 493: Oussouye\n",
      "City number 494: Ust'-Ilimsk\n",
      "City not found. Skipping...\n",
      "City number 495: Bud\n",
      "City not found. Skipping...\n",
      "City number 496: Leh\n",
      "City number 497: Te Anau\n",
      "City not found. Skipping...\n",
      "City number 498: Kirakira\n",
      "City number 499: Coos Bay\n",
      "City number 500: Canmore\n",
      "City number 501: Araouane\n",
      "City number 502: Jefferson City\n",
      "City number 503: Niono\n",
      "City number 504: Werda\n",
      "City number 505: Nemuro\n",
      "City number 506: Ajdabiya\n",
      "City number 507: Tahe\n",
      "City number 508: Altamira\n",
      "City number 509: Quang Ngai\n",
      "City not found. Skipping...\n",
      "City number 510: Hillsboro\n",
      "City number 511: Luanda\n",
      "City number 512: Vestmanna\n",
      "City number 513: Pozo Colorado\n",
      "City not found. Skipping...\n",
      "City number 514: Xining\n",
      "City number 515: Loíza\n",
      "City number 516: Nizwá\n",
      "City number 517: Tarauacá\n",
      "City number 518: Altay\n",
      "City number 519: San Severino Marche\n",
      "City number 520: Kouvola\n",
      "City number 521: Minas\n",
      "City number 522: Porto Velho\n",
      "City number 523: Tilichiki\n",
      "City number 524: Sarab\n",
      "City number 525: Fort Nelson\n",
      "City number 526: Hargeisa\n",
      "City not found. Skipping...\n",
      "City number 527: Vestnes\n",
      "City number 528: Tura\n",
      "City number 529: Pangkalanbuun\n",
      "City number 530: Porbandar\n",
      "City number 531: Namatanai\n",
      "City number 532: Bandar\n",
      "City number 533: Sal Rei\n",
      "City number 534: Kibre Mengist\n",
      "City not found. Skipping...\n",
      "City number 535: Khuzhir\n",
      "City number 536: Oddur\n",
      "City number 537: Beidao\n",
      "City number 538: Salon\n",
      "City number 539: Trairi\n",
      "City number 540: Cimarron Hills\n",
      "City number 541: Cap-aux-Meules\n",
      "City number 542: Henties Bay\n",
      "City number 543: Deputatsky\n",
      "City number 544: Roncesvalles\n",
      "City number 545: Scarborough\n",
      "City not found. Skipping...\n",
      "City number 546: Razdol'noye\n",
      "City number 547: Fujin\n",
      "City number 548: Brae\n",
      "City number 549: Villa Hayes\n",
      "City number 550: Grand Gaube\n",
      "City number 551: Husavik\n",
      "City number 552: Boyuibe\n",
      "City number 553: Prince Rupert\n",
      "City number 554: Mitú\n",
      "City number 555: Tungor\n",
      "City number 556: Xapuri\n",
      "City number 557: Kiryat Gat\n",
      "City number 558: La Joya\n",
      "City number 559: Saint-Louis\n",
      "City not found. Skipping...\n",
      "City number 560: Anyama\n",
      "City not found. Skipping...\n"
     ]
    }
   ],
   "source": [
    "from config import weather_api_key\n",
    "\n",
    "url = 'http://api.openweathermap.org/data/2.5/weather?q='\n",
    "units = 'imperial'\n",
    "\n",
    "new_cities = []\n",
    "new_lat = []\n",
    "new_lng = []\n",
    "max_temp = []\n",
    "humidity = []\n",
    "cloudiness = []\n",
    "wind_speed = []\n",
    "country = []\n",
    "date = []\n",
    "\n",
    "n = 1\n",
    "for city in cities:    \n",
    "    try:\n",
    "        query_url = f'{url}{city}&appid={weather_api_key}&units={units}'\n",
    "        response = requests.get(query_url).json()\n",
    "        print('City number '+ str(n) +': ' + response['name'])\n",
    "        n = n + 1\n",
    "        new_cities.append(response['name'])\n",
    "        new_lat.append(response['coord']['lat'])\n",
    "        new_lng.append(response['coord']['lon'])\n",
    "        max_temp.append(response['main']['temp_max'])\n",
    "        humidity.append(response['main']['humidity'])\n",
    "        cloudiness.append(response['clouds']['all'])\n",
    "        wind_speed.append(response['wind']['speed'])\n",
    "        country.append(response['sys']['country'])\n",
    "        date.append(response['dt'])\n",
    "    except KeyError:\n",
    "        print('City not found. Skipping...')             "
   ]
  },
  {
   "cell_type": "markdown",
   "metadata": {},
   "source": [
    "### Convert Raw Data to DataFrame\n",
    "* Export the city data into a .csv.\n",
    "* Display the DataFrame"
   ]
  },
  {
   "cell_type": "code",
   "execution_count": 54,
   "metadata": {},
   "outputs": [
    {
     "data": {
      "text/html": [
       "<div>\n",
       "<style scoped>\n",
       "    .dataframe tbody tr th:only-of-type {\n",
       "        vertical-align: middle;\n",
       "    }\n",
       "\n",
       "    .dataframe tbody tr th {\n",
       "        vertical-align: top;\n",
       "    }\n",
       "\n",
       "    .dataframe thead th {\n",
       "        text-align: right;\n",
       "    }\n",
       "</style>\n",
       "<table border=\"1\" class=\"dataframe\">\n",
       "  <thead>\n",
       "    <tr style=\"text-align: right;\">\n",
       "      <th></th>\n",
       "      <th>City</th>\n",
       "      <th>Lat</th>\n",
       "      <th>Lng</th>\n",
       "      <th>Max Temp</th>\n",
       "      <th>Humidity</th>\n",
       "      <th>Cloudiness</th>\n",
       "      <th>Wind Speed</th>\n",
       "      <th>Country</th>\n",
       "      <th>Date</th>\n",
       "    </tr>\n",
       "  </thead>\n",
       "  <tbody>\n",
       "    <tr>\n",
       "      <th>0</th>\n",
       "      <td>Puerto Ayora</td>\n",
       "      <td>-0.7393</td>\n",
       "      <td>-90.3518</td>\n",
       "      <td>74.55</td>\n",
       "      <td>86</td>\n",
       "      <td>41</td>\n",
       "      <td>7.00</td>\n",
       "      <td>EC</td>\n",
       "      <td>1622332964</td>\n",
       "    </tr>\n",
       "    <tr>\n",
       "      <th>1</th>\n",
       "      <td>Mogadishu</td>\n",
       "      <td>2.0371</td>\n",
       "      <td>45.3438</td>\n",
       "      <td>78.17</td>\n",
       "      <td>84</td>\n",
       "      <td>82</td>\n",
       "      <td>12.64</td>\n",
       "      <td>SO</td>\n",
       "      <td>1622332964</td>\n",
       "    </tr>\n",
       "    <tr>\n",
       "      <th>2</th>\n",
       "      <td>Asău</td>\n",
       "      <td>46.4333</td>\n",
       "      <td>26.4000</td>\n",
       "      <td>54.52</td>\n",
       "      <td>99</td>\n",
       "      <td>87</td>\n",
       "      <td>1.90</td>\n",
       "      <td>RO</td>\n",
       "      <td>1622332964</td>\n",
       "    </tr>\n",
       "    <tr>\n",
       "      <th>3</th>\n",
       "      <td>Busselton</td>\n",
       "      <td>-33.6500</td>\n",
       "      <td>115.3333</td>\n",
       "      <td>53.10</td>\n",
       "      <td>84</td>\n",
       "      <td>95</td>\n",
       "      <td>19.75</td>\n",
       "      <td>AU</td>\n",
       "      <td>1622332965</td>\n",
       "    </tr>\n",
       "    <tr>\n",
       "      <th>4</th>\n",
       "      <td>Rojhan</td>\n",
       "      <td>28.6868</td>\n",
       "      <td>69.9534</td>\n",
       "      <td>91.92</td>\n",
       "      <td>44</td>\n",
       "      <td>0</td>\n",
       "      <td>11.16</td>\n",
       "      <td>PK</td>\n",
       "      <td>1622332965</td>\n",
       "    </tr>\n",
       "  </tbody>\n",
       "</table>\n",
       "</div>"
      ],
      "text/plain": [
       "           City      Lat       Lng  Max Temp  Humidity  Cloudiness  \\\n",
       "0  Puerto Ayora  -0.7393  -90.3518     74.55        86          41   \n",
       "1     Mogadishu   2.0371   45.3438     78.17        84          82   \n",
       "2          Asău  46.4333   26.4000     54.52        99          87   \n",
       "3     Busselton -33.6500  115.3333     53.10        84          95   \n",
       "4        Rojhan  28.6868   69.9534     91.92        44           0   \n",
       "\n",
       "   Wind Speed Country        Date  \n",
       "0        7.00      EC  1622332964  \n",
       "1       12.64      SO  1622332964  \n",
       "2        1.90      RO  1622332964  \n",
       "3       19.75      AU  1622332965  \n",
       "4       11.16      PK  1622332965  "
      ]
     },
     "execution_count": 54,
     "metadata": {},
     "output_type": "execute_result"
    }
   ],
   "source": [
    "city_weather_df = pd.DataFrame({'City' : new_cities, \n",
    "                                'Lat' : new_lat, \n",
    "                                'Lng' : new_lng, \n",
    "                                'Max Temp' : max_temp,\n",
    "                                'Humidity' : humidity,\n",
    "                                'Cloudiness' : cloudiness,\n",
    "                                'Wind Speed' : wind_speed,\n",
    "                                'Country' : country,\n",
    "                                'Date' : date})\n",
    "city_weather_df.head()"
   ]
  },
  {
   "cell_type": "code",
   "execution_count": 56,
   "metadata": {},
   "outputs": [],
   "source": [
    "city_weather_df.to_csv('Output/city_weather_data.csv')"
   ]
  },
  {
   "cell_type": "markdown",
   "metadata": {},
   "source": [
    "## Inspect the data and remove the cities where the humidity > 100%.\n",
    "----\n",
    "Skip this step if there are no cities that have humidity > 100%. "
   ]
  },
  {
   "cell_type": "code",
   "execution_count": 57,
   "metadata": {},
   "outputs": [
    {
     "data": {
      "text/html": [
       "<div>\n",
       "<style scoped>\n",
       "    .dataframe tbody tr th:only-of-type {\n",
       "        vertical-align: middle;\n",
       "    }\n",
       "\n",
       "    .dataframe tbody tr th {\n",
       "        vertical-align: top;\n",
       "    }\n",
       "\n",
       "    .dataframe thead th {\n",
       "        text-align: right;\n",
       "    }\n",
       "</style>\n",
       "<table border=\"1\" class=\"dataframe\">\n",
       "  <thead>\n",
       "    <tr style=\"text-align: right;\">\n",
       "      <th></th>\n",
       "      <th>Lat</th>\n",
       "      <th>Lng</th>\n",
       "      <th>Max Temp</th>\n",
       "      <th>Humidity</th>\n",
       "      <th>Cloudiness</th>\n",
       "      <th>Wind Speed</th>\n",
       "      <th>Date</th>\n",
       "    </tr>\n",
       "  </thead>\n",
       "  <tbody>\n",
       "    <tr>\n",
       "      <th>count</th>\n",
       "      <td>560.000000</td>\n",
       "      <td>560.000000</td>\n",
       "      <td>560.000000</td>\n",
       "      <td>560.000000</td>\n",
       "      <td>560.000000</td>\n",
       "      <td>560.000000</td>\n",
       "      <td>5.600000e+02</td>\n",
       "    </tr>\n",
       "    <tr>\n",
       "      <th>mean</th>\n",
       "      <td>20.835258</td>\n",
       "      <td>22.208269</td>\n",
       "      <td>63.793518</td>\n",
       "      <td>70.616071</td>\n",
       "      <td>58.966071</td>\n",
       "      <td>7.719804</td>\n",
       "      <td>1.622333e+09</td>\n",
       "    </tr>\n",
       "    <tr>\n",
       "      <th>std</th>\n",
       "      <td>33.421559</td>\n",
       "      <td>91.001795</td>\n",
       "      <td>15.884735</td>\n",
       "      <td>21.060542</td>\n",
       "      <td>36.439534</td>\n",
       "      <td>5.734540</td>\n",
       "      <td>8.937158e+01</td>\n",
       "    </tr>\n",
       "    <tr>\n",
       "      <th>min</th>\n",
       "      <td>-54.800000</td>\n",
       "      <td>-175.200000</td>\n",
       "      <td>19.690000</td>\n",
       "      <td>4.000000</td>\n",
       "      <td>0.000000</td>\n",
       "      <td>0.000000</td>\n",
       "      <td>1.622333e+09</td>\n",
       "    </tr>\n",
       "    <tr>\n",
       "      <th>25%</th>\n",
       "      <td>-6.477900</td>\n",
       "      <td>-60.654175</td>\n",
       "      <td>51.055000</td>\n",
       "      <td>60.000000</td>\n",
       "      <td>22.750000</td>\n",
       "      <td>3.552500</td>\n",
       "      <td>1.622333e+09</td>\n",
       "    </tr>\n",
       "    <tr>\n",
       "      <th>50%</th>\n",
       "      <td>26.108750</td>\n",
       "      <td>24.740700</td>\n",
       "      <td>63.760000</td>\n",
       "      <td>76.000000</td>\n",
       "      <td>67.500000</td>\n",
       "      <td>6.590000</td>\n",
       "      <td>1.622333e+09</td>\n",
       "    </tr>\n",
       "    <tr>\n",
       "      <th>75%</th>\n",
       "      <td>49.515025</td>\n",
       "      <td>104.024475</td>\n",
       "      <td>77.767500</td>\n",
       "      <td>86.000000</td>\n",
       "      <td>95.000000</td>\n",
       "      <td>10.330000</td>\n",
       "      <td>1.622333e+09</td>\n",
       "    </tr>\n",
       "    <tr>\n",
       "      <th>max</th>\n",
       "      <td>78.218600</td>\n",
       "      <td>179.316700</td>\n",
       "      <td>101.070000</td>\n",
       "      <td>100.000000</td>\n",
       "      <td>100.000000</td>\n",
       "      <td>38.970000</td>\n",
       "      <td>1.622333e+09</td>\n",
       "    </tr>\n",
       "  </tbody>\n",
       "</table>\n",
       "</div>"
      ],
      "text/plain": [
       "              Lat         Lng    Max Temp    Humidity  Cloudiness  Wind Speed  \\\n",
       "count  560.000000  560.000000  560.000000  560.000000  560.000000  560.000000   \n",
       "mean    20.835258   22.208269   63.793518   70.616071   58.966071    7.719804   \n",
       "std     33.421559   91.001795   15.884735   21.060542   36.439534    5.734540   \n",
       "min    -54.800000 -175.200000   19.690000    4.000000    0.000000    0.000000   \n",
       "25%     -6.477900  -60.654175   51.055000   60.000000   22.750000    3.552500   \n",
       "50%     26.108750   24.740700   63.760000   76.000000   67.500000    6.590000   \n",
       "75%     49.515025  104.024475   77.767500   86.000000   95.000000   10.330000   \n",
       "max     78.218600  179.316700  101.070000  100.000000  100.000000   38.970000   \n",
       "\n",
       "               Date  \n",
       "count  5.600000e+02  \n",
       "mean   1.622333e+09  \n",
       "std    8.937158e+01  \n",
       "min    1.622333e+09  \n",
       "25%    1.622333e+09  \n",
       "50%    1.622333e+09  \n",
       "75%    1.622333e+09  \n",
       "max    1.622333e+09  "
      ]
     },
     "execution_count": 57,
     "metadata": {},
     "output_type": "execute_result"
    }
   ],
   "source": [
    "city_weather_df.describe()"
   ]
  },
  {
   "cell_type": "code",
   "execution_count": 17,
   "metadata": {},
   "outputs": [
    {
     "data": {
      "text/plain": [
       "Int64Index([], dtype='int64')"
      ]
     },
     "execution_count": 17,
     "metadata": {},
     "output_type": "execute_result"
    }
   ],
   "source": [
    "#  Get the indices of cities that have humidity over 100%.\n"
   ]
  },
  {
   "cell_type": "code",
   "execution_count": 19,
   "metadata": {},
   "outputs": [
    {
     "data": {
      "text/html": [
       "<div>\n",
       "<style scoped>\n",
       "    .dataframe tbody tr th:only-of-type {\n",
       "        vertical-align: middle;\n",
       "    }\n",
       "\n",
       "    .dataframe tbody tr th {\n",
       "        vertical-align: top;\n",
       "    }\n",
       "\n",
       "    .dataframe thead th {\n",
       "        text-align: right;\n",
       "    }\n",
       "</style>\n",
       "<table border=\"1\" class=\"dataframe\">\n",
       "  <thead>\n",
       "    <tr style=\"text-align: right;\">\n",
       "      <th></th>\n",
       "      <th>City</th>\n",
       "      <th>Lat</th>\n",
       "      <th>Lng</th>\n",
       "      <th>Max Temp</th>\n",
       "      <th>Humidity</th>\n",
       "      <th>Cloudiness</th>\n",
       "      <th>Wind Speed</th>\n",
       "      <th>Country</th>\n",
       "      <th>Date</th>\n",
       "    </tr>\n",
       "  </thead>\n",
       "  <tbody>\n",
       "    <tr>\n",
       "      <td>0</td>\n",
       "      <td>butaritari</td>\n",
       "      <td>3.07</td>\n",
       "      <td>172.79</td>\n",
       "      <td>83.32</td>\n",
       "      <td>74</td>\n",
       "      <td>84</td>\n",
       "      <td>10.42</td>\n",
       "      <td>KI</td>\n",
       "      <td>1593605283</td>\n",
       "    </tr>\n",
       "    <tr>\n",
       "      <td>1</td>\n",
       "      <td>yerbogachen</td>\n",
       "      <td>61.28</td>\n",
       "      <td>108.01</td>\n",
       "      <td>79.52</td>\n",
       "      <td>58</td>\n",
       "      <td>20</td>\n",
       "      <td>7.70</td>\n",
       "      <td>RU</td>\n",
       "      <td>1593605121</td>\n",
       "    </tr>\n",
       "    <tr>\n",
       "      <td>2</td>\n",
       "      <td>cape town</td>\n",
       "      <td>-33.93</td>\n",
       "      <td>18.42</td>\n",
       "      <td>73.00</td>\n",
       "      <td>77</td>\n",
       "      <td>27</td>\n",
       "      <td>4.70</td>\n",
       "      <td>ZA</td>\n",
       "      <td>1593605039</td>\n",
       "    </tr>\n",
       "    <tr>\n",
       "      <td>3</td>\n",
       "      <td>touba</td>\n",
       "      <td>8.28</td>\n",
       "      <td>-7.68</td>\n",
       "      <td>79.97</td>\n",
       "      <td>75</td>\n",
       "      <td>82</td>\n",
       "      <td>3.58</td>\n",
       "      <td>CI</td>\n",
       "      <td>1593605284</td>\n",
       "    </tr>\n",
       "    <tr>\n",
       "      <td>4</td>\n",
       "      <td>jamestown</td>\n",
       "      <td>42.10</td>\n",
       "      <td>-79.24</td>\n",
       "      <td>64.00</td>\n",
       "      <td>88</td>\n",
       "      <td>1</td>\n",
       "      <td>6.93</td>\n",
       "      <td>US</td>\n",
       "      <td>1593605284</td>\n",
       "    </tr>\n",
       "  </tbody>\n",
       "</table>\n",
       "</div>"
      ],
      "text/plain": [
       "          City    Lat     Lng  Max Temp  Humidity  Cloudiness  Wind Speed  \\\n",
       "0   butaritari   3.07  172.79     83.32        74          84       10.42   \n",
       "1  yerbogachen  61.28  108.01     79.52        58          20        7.70   \n",
       "2    cape town -33.93   18.42     73.00        77          27        4.70   \n",
       "3        touba   8.28   -7.68     79.97        75          82        3.58   \n",
       "4    jamestown  42.10  -79.24     64.00        88           1        6.93   \n",
       "\n",
       "  Country        Date  \n",
       "0      KI  1593605283  \n",
       "1      RU  1593605121  \n",
       "2      ZA  1593605039  \n",
       "3      CI  1593605284  \n",
       "4      US  1593605284  "
      ]
     },
     "execution_count": 19,
     "metadata": {},
     "output_type": "execute_result"
    }
   ],
   "source": [
    "# Make a new DataFrame equal to the city data to drop all humidity outliers by index.\n",
    "# Passing \"inplace=False\" will make a copy of the city_data DataFrame, which we call \"clean_city_data\".\n"
   ]
  },
  {
   "cell_type": "code",
   "execution_count": null,
   "metadata": {},
   "outputs": [],
   "source": [
    "\n"
   ]
  },
  {
   "cell_type": "markdown",
   "metadata": {},
   "source": [
    "## Plotting the Data\n",
    "* Use proper labeling of the plots using plot titles (including date of analysis) and axes labels.\n",
    "* Save the plotted figures as .pngs."
   ]
  },
  {
   "cell_type": "markdown",
   "metadata": {},
   "source": [
    "## Latitude vs. Temperature Plot"
   ]
  },
  {
   "cell_type": "code",
   "execution_count": 60,
   "metadata": {
    "scrolled": true
   },
   "outputs": [
    {
     "data": {
      "text/plain": [
       "Text(0.5, 1.0, 'Latitude vs. Temperature')"
      ]
     },
     "execution_count": 60,
     "metadata": {},
     "output_type": "execute_result"
    },
    {
     "data": {
      "image/png": "[encoded data removed]",
      "text/plain": [
       "<Figure size 432x288 with 1 Axes>"
      ]
     },
     "metadata": {
      "needs_background": "light"
     },
     "output_type": "display_data"
    }
   ],
   "source": [
    "x_axis_lt = city_weather_df['Lat']\n",
    "y_axis_lt = city_weather_df['Max Temp']\n",
    "\n",
    "plt.scatter(x_axis_lt, y_axis_lt)\n",
    "plt.grid()\n",
    "plt.xlabel('Latitude')\n",
    "plt.ylabel('Max Temp (F)')\n",
    "plt.title('Latitude vs. Temperature')"
   ]
  },
  {
   "cell_type": "markdown",
   "metadata": {},
   "source": [
    "## Latitude vs. Humidity Plot"
   ]
  },
  {
   "cell_type": "code",
   "execution_count": 61,
   "metadata": {},
   "outputs": [
    {
     "data": {
      "text/plain": [
       "Text(0.5, 1.0, 'City Latitude vs. Humidity')"
      ]
     },
     "execution_count": 61,
     "metadata": {},
     "output_type": "execute_result"
    },
    {
     "data": {
      "image/png": "[encoded data removed]",
      "text/plain": [
       "<Figure size 432x288 with 1 Axes>"
      ]
     },
     "metadata": {
      "needs_background": "light"
     },
     "output_type": "display_data"
    }
   ],
   "source": [
    "x_axis_lh = city_weather_df['Lat']\n",
    "y_axis_lh = city_weather_df['Humidity']\n",
    "\n",
    "plt.scatter(x_axis_lh, y_axis_lh)\n",
    "plt.grid()\n",
    "plt.xlabel('Latitude')\n",
    "plt.ylabel('Humidity (%)')\n",
    "plt.title('City Latitude vs. Humidity')"
   ]
  },
  {
   "cell_type": "markdown",
   "metadata": {},
   "source": [
    "## Latitude vs. Cloudiness Plot"
   ]
  },
  {
   "cell_type": "code",
   "execution_count": 62,
   "metadata": {},
   "outputs": [
    {
     "data": {
      "text/plain": [
       "Text(0.5, 1.0, 'City Latitude vs. Cloudiness')"
      ]
     },
     "execution_count": 62,
     "metadata": {},
     "output_type": "execute_result"
    },
    {
     "data": {
      "image/png": "[encoded data removed]",
      "text/plain": [
       "<Figure size 432x288 with 1 Axes>"
      ]
     },
     "metadata": {
      "needs_background": "light"
     },
     "output_type": "display_data"
    }
   ],
   "source": [
    "x_axis_lc = city_weather_df['Lat']\n",
    "y_axis_lc = city_weather_df['Cloudiness']\n",
    "\n",
    "plt.scatter(x_axis_lc, y_axis_lc)\n",
    "plt.grid()\n",
    "plt.xlabel('Latitude')\n",
    "plt.ylabel('Cloudiness (%)')\n",
    "plt.title('City Latitude vs. Cloudiness')"
   ]
  },
  {
   "cell_type": "markdown",
   "metadata": {},
   "source": [
    "## Latitude vs. Wind Speed Plot"
   ]
  },
  {
   "cell_type": "code",
   "execution_count": 63,
   "metadata": {},
   "outputs": [
    {
     "data": {
      "text/plain": [
       "Text(0.5, 1.0, 'City Latitude vs. Wind Speed')"
      ]
     },
     "execution_count": 63,
     "metadata": {},
     "output_type": "execute_result"
    },
    {
     "data": {
      "image/png": "[encoded data removed]",
      "text/plain": [
       "<Figure size 432x288 with 1 Axes>"
      ]
     },
     "metadata": {
      "needs_background": "light"
     },
     "output_type": "display_data"
    }
   ],
   "source": [
    "x_axis_lw = city_weather_df['Lat']\n",
    "y_axis_lw = city_weather_df['Wind Speed']\n",
    "\n",
    "plt.scatter(x_axis_lw, y_axis_lw)\n",
    "plt.grid()\n",
    "plt.xlabel('Latitude')\n",
    "plt.ylabel('Wind Speed (mph)')\n",
    "plt.title('City Latitude vs. Wind Speed')"
   ]
  },
  {
   "cell_type": "markdown",
   "metadata": {},
   "source": [
    "## Linear Regression"
   ]
  },
  {
   "cell_type": "code",
   "execution_count": 24,
   "metadata": {},
   "outputs": [],
   "source": []
  },
  {
   "cell_type": "markdown",
   "metadata": {},
   "source": [
    "####  Northern Hemisphere - Max Temp vs. Latitude Linear Regression"
   ]
  },
  {
   "cell_type": "code",
   "execution_count": 94,
   "metadata": {},
   "outputs": [
    {
     "data": {
      "text/plain": [
       "Text(0.5, 1.0, 'Northern Hemisphere - Max Temp vs. Latitude')"
      ]
     },
     "execution_count": 94,
     "metadata": {},
     "output_type": "execute_result"
    },
    {
     "data": {
      "image/png": "[encoded data removed]",
      "text/plain": [
       "<Figure size 432x288 with 1 Axes>"
      ]
     },
     "metadata": {
      "needs_background": "light"
     },
     "output_type": "display_data"
    }
   ],
   "source": [
    "x_axis_lt_N = city_weather_df[city_weather_df['Lat'] >= 0]['Lat']\n",
    "y_axis_lt_N = city_weather_df[city_weather_df['Lat'] >= 0]['Max Temp']\n",
    "\n",
    "(slope, intercept, rvalue, pvalue, stderr) = sts.linregress(x_axis_lt_N, y_axis_lt_N)\n",
    "ltr_regress_values = x_axis_lt_N * slope + intercept\n",
    "ltr_line_eq = \"y = \" + str(round(slope,2)) + \"x + \" + str(round(intercept,2))\n",
    "plt.scatter(x_axis_lt_N, y_axis_lt_N)\n",
    "plt.plot(x_axis_lt_N, ltr_regress_values, c = 'r')\n",
    "plt.annotate(ltr_line_eq,(5,50), c = 'r', fontsize = 15)\n",
    "plt.xlabel('Latitude')\n",
    "plt.ylabel('Max Temperature (F)')\n",
    "plt.title('Northern Hemisphere - Max Temp vs. Latitude')"
   ]
  },
  {
   "cell_type": "markdown",
   "metadata": {},
   "source": [
    "####  Southern Hemisphere - Max Temp vs. Latitude Linear Regression"
   ]
  },
  {
   "cell_type": "code",
   "execution_count": 95,
   "metadata": {},
   "outputs": [
    {
     "data": {
      "text/plain": [
       "Text(0.5, 1.0, 'Southern Hemisphere - Max Temp vs. Latitude')"
      ]
     },
     "execution_count": 95,
     "metadata": {},
     "output_type": "execute_result"
    },
    {
     "data": {
      "image/png": "[encoded data removed]",
      "text/plain": [
       "<Figure size 432x288 with 1 Axes>"
      ]
     },
     "metadata": {
      "needs_background": "light"
     },
     "output_type": "display_data"
    }
   ],
   "source": [
    "x_axis_lt_S = city_weather_df[city_weather_df['Lat'] < 0]['Lat']\n",
    "y_axis_lt_S = city_weather_df[city_weather_df['Lat'] < 0]['Max Temp']\n",
    "\n",
    "(slope, intercept, rvalue, pvalue, stderr) = sts.linregress(x_axis_lt_S, y_axis_lt_S)\n",
    "ltr_regress_values = x_axis_lt_S * slope + intercept\n",
    "ltr_line_eq = \"y = \" + str(round(slope,2)) + \"x + \" + str(round(intercept,2))\n",
    "plt.scatter(x_axis_lt_S, y_axis_lt_S)\n",
    "plt.plot(x_axis_lt_S, ltr_regress_values, c = 'r')\n",
    "plt.annotate(ltr_line_eq,(-30,40), c = 'r', fontsize = 15)\n",
    "plt.xlabel('Latitude')\n",
    "plt.ylabel('Max Temperature (F)')\n",
    "plt.title('Southern Hemisphere - Max Temp vs. Latitude')"
   ]
  },
  {
   "cell_type": "markdown",
   "metadata": {},
   "source": [
    "####  Northern Hemisphere - Humidity (%) vs. Latitude Linear Regression"
   ]
  },
  {
   "cell_type": "code",
   "execution_count": 100,
   "metadata": {},
   "outputs": [
    {
     "data": {
      "text/plain": [
       "Text(0.5, 1.0, 'Northern Hemisphere - Humidity vs. Latitude')"
      ]
     },
     "execution_count": 100,
     "metadata": {},
     "output_type": "execute_result"
    },
    {
     "data": {
      "image/png": "[encoded data removed]",
      "text/plain": [
       "<Figure size 432x288 with 1 Axes>"
      ]
     },
     "metadata": {
      "needs_background": "light"
     },
     "output_type": "display_data"
    }
   ],
   "source": [
    "x_axis_lh_N = city_weather_df[city_weather_df['Lat'] >= 0]['Lat']\n",
    "y_axis_lh_N = city_weather_df[city_weather_df['Lat'] >= 0]['Humidity']\n",
    "\n",
    "(slope, intercept, rvalue, pvalue, stderr) = sts.linregress(x_axis_lh_N, y_axis_lh_N)\n",
    "lhr_regress_values = x_axis_lt_N * slope + intercept\n",
    "lhr_line_eq = \"y = \" + str(round(slope,2)) + \"x + \" + str(round(intercept,2))\n",
    "plt.scatter(x_axis_lh_N, y_axis_lh_N)\n",
    "plt.plot(x_axis_lh_N, lhr_regress_values, c = 'r')\n",
    "plt.annotate(lhr_line_eq,(5,50), c = 'r', fontsize = 15)\n",
    "plt.xlabel('Latitude')\n",
    "plt.ylabel('Humidity (%)')\n",
    "plt.title('Northern Hemisphere - Humidity vs. Latitude')"
   ]
  },
  {
   "cell_type": "markdown",
   "metadata": {},
   "source": [
    "####  Southern Hemisphere - Humidity (%) vs. Latitude Linear Regression"
   ]
  },
  {
   "cell_type": "code",
   "execution_count": 101,
   "metadata": {},
   "outputs": [
    {
     "data": {
      "text/plain": [
       "Text(0.5, 1.0, 'Southern Hemisphere - Humidity vs. Latitude')"
      ]
     },
     "execution_count": 101,
     "metadata": {},
     "output_type": "execute_result"
    },
    {
     "data": {
      "image/png": "[encoded data removed]",
      "text/plain": [
       "<Figure size 432x288 with 1 Axes>"
      ]
     },
     "metadata": {
      "needs_background": "light"
     },
     "output_type": "display_data"
    }
   ],
   "source": [
    "x_axis_lh_S = city_weather_df[city_weather_df['Lat'] < 0]['Lat']\n",
    "y_axis_lh_S = city_weather_df[city_weather_df['Lat'] < 0]['Humidity']\n",
    "\n",
    "(slope, intercept, rvalue, pvalue, stderr) = sts.linregress(x_axis_lh_N, y_axis_lh_N)\n",
    "lhr_regress_values = x_axis_lt_S * slope + intercept\n",
    "lhr_line_eq = \"y = \" + str(round(slope,2)) + \"x + \" + str(round(intercept,2))\n",
    "plt.scatter(x_axis_lh_S, y_axis_lh_S)\n",
    "plt.plot(x_axis_lh_S, lhr_regress_values, c = 'r')\n",
    "plt.annotate(lhr_line_eq,(-40,50), c = 'r', fontsize = 15)\n",
    "plt.xlabel('Latitude')\n",
    "plt.ylabel('Humidity (%)')\n",
    "plt.title('Southern Hemisphere - Humidity vs. Latitude')"
   ]
  },
  {
   "cell_type": "markdown",
   "metadata": {},
   "source": [
    "####  Northern Hemisphere - Cloudiness (%) vs. Latitude Linear Regression"
   ]
  },
  {
   "cell_type": "code",
   "execution_count": 105,
   "metadata": {},
   "outputs": [
    {
     "data": {
      "text/plain": [
       "Text(0.5, 1.0, 'Northern Hemisphere - Cloudiness vs. Latitude')"
      ]
     },
     "execution_count": 105,
     "metadata": {},
     "output_type": "execute_result"
    },
    {
     "data": {
      "image/png": "[encoded data removed]",
      "text/plain": [
       "<Figure size 432x288 with 1 Axes>"
      ]
     },
     "metadata": {
      "needs_background": "light"
     },
     "output_type": "display_data"
    }
   ],
   "source": [
    "x_axis_lc_N = city_weather_df[city_weather_df['Lat'] >= 0]['Lat']\n",
    "y_axis_lc_N = city_weather_df[city_weather_df['Lat'] >= 0]['Cloudiness']\n",
    "\n",
    "(slope, intercept, rvalue, pvalue, stderr) = sts.linregress(x_axis_lc_N, y_axis_lc_N)\n",
    "lcr_regress_values = x_axis_lc_N * slope + intercept\n",
    "lcr_line_eq = \"y = \" + str(round(slope,2)) + \"x + \" + str(round(intercept,2))\n",
    "plt.scatter(x_axis_lc_N, y_axis_lc_N)\n",
    "plt.plot(x_axis_lc_N, lcr_regress_values, c = 'r')\n",
    "plt.annotate(lcr_line_eq,(5,35), c = 'r', fontsize = 15)\n",
    "plt.xlabel('Latitude')\n",
    "plt.ylabel('Cloudiness (%)')\n",
    "plt.title('Northern Hemisphere - Cloudiness vs. Latitude')"
   ]
  },
  {
   "cell_type": "markdown",
   "metadata": {},
   "source": [
    "####  Southern Hemisphere - Cloudiness (%) vs. Latitude Linear Regression"
   ]
  },
  {
   "cell_type": "code",
   "execution_count": 108,
   "metadata": {},
   "outputs": [
    {
     "data": {
      "text/plain": [
       "Text(0.5, 1.0, 'Southern Hemisphere - Cloudiness vs. Latitude')"
      ]
     },
     "execution_count": 108,
     "metadata": {},
     "output_type": "execute_result"
    },
    {
     "data": {
      "image/png": "[encoded data removed]",
      "text/plain": [
       "<Figure size 432x288 with 1 Axes>"
      ]
     },
     "metadata": {
      "needs_background": "light"
     },
     "output_type": "display_data"
    }
   ],
   "source": [
    "x_axis_lc_S = city_weather_df[city_weather_df['Lat'] < 0]['Lat']\n",
    "y_axis_lc_S = city_weather_df[city_weather_df['Lat'] < 0]['Cloudiness']\n",
    "\n",
    "(slope, intercept, rvalue, pvalue, stderr) = sts.linregress(x_axis_lc_S, y_axis_lc_S)\n",
    "lcr_regress_values = x_axis_lc_S * slope + intercept\n",
    "lcr_line_eq = \"y = \" + str(round(slope,2)) + \"x + \" + str(round(intercept,2))\n",
    "plt.scatter(x_axis_lc_S, y_axis_lc_S)\n",
    "plt.plot(x_axis_lc_S, lcr_regress_values, c = 'r')\n",
    "plt.annotate(lcr_line_eq,(-50,35), c = 'r', fontsize = 15)\n",
    "plt.xlabel('Latitude')\n",
    "plt.ylabel('Cloudiness (%)')\n",
    "plt.title('Southern Hemisphere - Cloudiness vs. Latitude')"
   ]
  },
  {
   "cell_type": "markdown",
   "metadata": {},
   "source": [
    "####  Northern Hemisphere - Wind Speed (mph) vs. Latitude Linear Regression"
   ]
  },
  {
   "cell_type": "code",
   "execution_count": 109,
   "metadata": {},
   "outputs": [
    {
     "data": {
      "text/plain": [
       "Text(0.5, 1.0, 'Northern Hemisphere - Wind Speed vs. Latitude')"
      ]
     },
     "execution_count": 109,
     "metadata": {},
     "output_type": "execute_result"
    },
    {
     "data": {
      "image/png": "[encoded data removed]",
      "text/plain": [
       "<Figure size 432x288 with 1 Axes>"
      ]
     },
     "metadata": {
      "needs_background": "light"
     },
     "output_type": "display_data"
    }
   ],
   "source": [
    "x_axis_lw_N = city_weather_df[city_weather_df['Lat'] >= 0]['Lat']\n",
    "y_axis_lw_N = city_weather_df[city_weather_df['Lat'] >= 0]['Wind Speed']\n",
    "\n",
    "(slope, intercept, rvalue, pvalue, stderr) = sts.linregress(x_axis_lw_N, y_axis_lw_N)\n",
    "lwr_regress_values = x_axis_lw_N * slope + intercept\n",
    "lwr_line_eq = \"y = \" + str(round(slope,2)) + \"x + \" + str(round(intercept,2))\n",
    "plt.scatter(x_axis_lw_N, y_axis_lw_N)\n",
    "plt.plot(x_axis_lw_N, lwr_regress_values, c = 'r')\n",
    "plt.annotate(lwr_line_eq,(40,25), c = 'r', fontsize = 15)\n",
    "plt.xlabel('Latitude')\n",
    "plt.ylabel('Wind Speed (mph)')\n",
    "plt.title('Northern Hemisphere - Wind Speed vs. Latitude')"
   ]
  },
  {
   "cell_type": "markdown",
   "metadata": {},
   "source": [
    "####  Southern Hemisphere - Wind Speed (mph) vs. Latitude Linear Regression"
   ]
  },
  {
   "cell_type": "code",
   "execution_count": 113,
   "metadata": {},
   "outputs": [
    {
     "data": {
      "text/plain": [
       "Text(0.5, 1.0, 'Southern Hemisphere - Wind Speed vs. Latitude')"
      ]
     },
     "execution_count": 113,
     "metadata": {},
     "output_type": "execute_result"
    },
    {
     "data": {
      "image/png": "[encoded data removed]",
      "text/plain": [
       "<Figure size 432x288 with 1 Axes>"
      ]
     },
     "metadata": {
      "needs_background": "light"
     },
     "output_type": "display_data"
    }
   ],
   "source": [
    "x_axis_lw_S = city_weather_df[city_weather_df['Lat'] < 0]['Lat']\n",
    "y_axis_lw_S = city_weather_df[city_weather_df['Lat'] < 0]['Wind Speed']\n",
    "\n",
    "(slope, intercept, rvalue, pvalue, stderr) = sts.linregress(x_axis_lw_S, y_axis_lw_S)\n",
    "lwr_regress_values = x_axis_lw_S * slope + intercept\n",
    "lwr_line_eq = \"y = \" + str(round(slope,2)) + \"x + \" + str(round(intercept,2))\n",
    "plt.scatter(x_axis_lw_S, y_axis_lw_S)\n",
    "plt.plot(x_axis_lw_S, lwr_regress_values, c = 'r')\n",
    "plt.annotate(lwr_line_eq,(-40,25), c = 'r', fontsize = 15)\n",
    "plt.xlabel('Latitude')\n",
    "plt.ylabel('Wind Speed (mph)')\n",
    "plt.title('Southern Hemisphere - Wind Speed vs. Latitude')"
   ]
  },
  {
   "cell_type": "code",
   "execution_count": null,
   "metadata": {},
   "outputs": [],
   "source": []
  }
 ],
 "metadata": {
  "anaconda-cloud": {},
  "kernel_info": {
   "name": "python3"
  },
  "kernelspec": {
   "display_name": "Python [conda env:root] *",
   "language": "python",
   "name": "conda-root-py"
  },
  "language_info": {
   "codemirror_mode": {
    "name": "ipython",
    "version": 3
   },
   "file_extension": ".py",
   "mimetype": "text/x-python",
   "name": "python",
   "nbconvert_exporter": "python",
   "pygments_lexer": "ipython3",
   "version": "3.8.5"
  },
  "latex_envs": {
   "LaTeX_envs_menu_present": true,
   "autoclose": false,
   "autocomplete": true,
   "bibliofile": "biblio.bib",
   "cite_by": "apalike",
   "current_citInitial": 1,
   "eqLabelWithNumbers": true,
   "eqNumInitial": 1,
   "hotkeys": {
    "equation": "Ctrl-E",
    "itemize": "Ctrl-I"
   },
   "labels_anchors": false,
   "latex_user_defs": false,
   "report_style_numbering": false,
   "user_envs_cfg": false
  },
  "nteract": {
   "version": "0.12.3"
  }
 },
 "nbformat": 4,
 "nbformat_minor": 2
}
